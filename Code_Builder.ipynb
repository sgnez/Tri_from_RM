{
 "cells": [
  {
   "cell_type": "code",
   "execution_count": 1,
   "metadata": {},
   "outputs": [
    {
     "data": {
      "text/plain": [
       "[1 1 1 1 1 1 1 1 1 1 1 1 1 1 1 1]\n",
       "[0 0 0 0 1 1 1 1 1 1 1 1 1 1 1 1]\n",
       "[1 1 1 1 0 0 0 0 0 0 0 0 1 1 1 1]\n",
       "[1 1 1 1 0 0 0 0 1 1 1 1 0 0 0 0]\n",
       "[0 0 1 1 0 0 1 1 0 0 1 1 0 0 1 1]\n",
       "[0 1 0 1 0 1 0 1 0 1 0 1 0 1 0 1]"
      ]
     },
     "execution_count": 1,
     "metadata": {},
     "output_type": "execute_result"
    }
   ],
   "source": [
    "################################################################################\n",
    "#                            THIS IS THE MAIN CODE                             #\n",
    "################################################################################\n",
    "\n",
    "from codebuilder import *\n",
    "\n",
    "################################################################################\n",
    "#            THE CODE SUPPORTS POLYNOMIALS OF AT MOST 20 VARIABLES.            #\n",
    "#                      THE VARIABLES ARE x1,x2, ..., x20                       #\n",
    "#  FUNCTION \"Generator_Matrix\" GENERATES THE CODE MATRIX FROM THE POLYNOMIAL   #\n",
    "################################################################################\n",
    "\n",
    "#example polynomial:\n",
    "poly = x1+x2*x3\n",
    "#WARNING: make sure to use consecutive variables, i.e., x2*x3+x1+x4*x5 is good poly, but x1+x4*x3 is not, \n",
    "# because it is missing x2\n",
    "#example code generated:\n",
    "Generator_Matrix(poly,5)"
   ]
  },
  {
   "cell_type": "code",
   "execution_count": 2,
   "metadata": {},
   "outputs": [],
   "source": [
    "# We use the language of Kasami et.al.\n",
    "# m is the number of variables. \n",
    "# r is the degree\n",
    "\n",
    "# We need: r = m - 4, m - 5, m - 6, ... , 0\n",
    "#   for the code to be triorthogonal.\n",
    "\n",
    "# We are interested in cases where the weight of the poly is less than 2.5*16 = 40. If r <= m-6, then the weight is \n",
    "# more than 64. So we only consider the cases where r = m - 4 and r = m - 5 \n",
    "\n",
    "# If r = m - 5, then then only polynomial with weight less than 40 is poly = 1, any other polynomial with will have\n",
    "# weight more than 32+16=48 "
   ]
  },
  {
   "cell_type": "code",
   "execution_count": 3,
   "metadata": {},
   "outputs": [],
   "source": [
    "################################################################################\n",
    "#             THIS IS THE LIST OF ALL POLYNOMIALS WITH WEIGHT < 32             #\n",
    "#                   AND THE CORRESPONDING GENERATOR MATRICES                   #\n",
    "#                             THERE ARE 5 OF THEM                              #\n",
    "################################################################################\n",
    "\n",
    "#Gs is the list of generator matrices\n",
    "Gs = []\n",
    "#Polys it the list of all polynomials\n",
    "Polys = []\n",
    "\n",
    "m      = 4\n",
    "poly   = 1\n",
    "Polys.append([poly,m])\n",
    "#ncols =  16\n",
    "#nrows =  5\n",
    "\n",
    "m    = 6\n",
    "poly = x1*x2+x3*x4\n",
    "Polys.append([poly,m])\n",
    "#ncols =  24\n",
    "#nrows =  7\n",
    "\n",
    "m    = 6\n",
    "poly = x1*x2+x3*x4+x5*x6\n",
    "Polys.append([poly,m])\n",
    "#ncols =  28\n",
    "#nrows =  7\n",
    "\n",
    "m    = 7\n",
    "poly = x1*x2*x3 + x4*x5*x6\n",
    "Polys.append([poly,m])\n",
    "#ncols =  28\n",
    "#nrows =  8\n",
    "\n",
    "m    = 8\n",
    "poly = x1*x2*x3*x4 + x5*x6*x7*x8\n",
    "Polys.append([poly,m])\n",
    "#ncols =  30\n",
    "#nrows =  9\n",
    "\n",
    "for [poly,m] in Polys:\n",
    "    Gs.append(Generator_Matrix(poly,m))"
   ]
  },
  {
   "cell_type": "code",
   "execution_count": 4,
   "metadata": {},
   "outputs": [
    {
     "name": "stdout",
     "output_type": "stream",
     "text": [
      "Code number 1\n",
      "[1 1 1 1 1 1 1 1 1 1 1 1 1 1 1 1]\n",
      "[0 0 0 0 0 0 0 0 1 1 1 1 1 1 1 1]\n",
      "[0 0 0 0 1 1 1 1 0 0 0 0 1 1 1 1]\n",
      "[0 0 1 1 0 0 1 1 0 0 1 1 0 0 1 1]\n",
      "[0 1 0 1 0 1 0 1 0 1 0 1 0 1 0 1]\n",
      "Number of rows: 5\n",
      "Number of columns: 16\n",
      "Weight Enumerator function:\n",
      "[1, 0, 0, 0, 0, 0, 0, 0, 30, 0, 0, 0, 0, 0, 0, 0, 1]\n",
      "----------------------------------------------------------------------------------------------------\n",
      "Code number 2\n",
      "[1 1 1 1 1 1 1 1 1 1 1 1 1 1 1 1 1 1 1 1 1 1 1 1]\n",
      "[0 0 0 0 0 0 0 0 1 1 1 1 1 1 1 1 1 1 1 1 1 1 1 1]\n",
      "[0 0 0 0 1 1 1 1 0 0 0 0 1 1 1 1 1 1 1 1 1 1 1 1]\n",
      "[1 1 1 1 1 1 1 1 1 1 1 1 0 0 0 0 0 0 0 0 1 1 1 1]\n",
      "[1 1 1 1 1 1 1 1 1 1 1 1 0 0 0 0 1 1 1 1 0 0 0 0]\n",
      "[0 0 1 1 0 0 1 1 0 0 1 1 0 0 1 1 0 0 1 1 0 0 1 1]\n",
      "[0 1 0 1 0 1 0 1 0 1 0 1 0 1 0 1 0 1 0 1 0 1 0 1]\n",
      "Number of rows: 7\n",
      "Number of columns: 24\n",
      "Weight Enumerator function:\n",
      "[1, 0, 0, 0, 0, 0, 0, 0, 15, 0, 0, 0, 96, 0, 0, 0, 15, 0, 0, 0, 0, 0, 0, 0, 1]\n",
      "----------------------------------------------------------------------------------------------------\n",
      "Code number 3\n",
      "[1 1 1 1 1 1 1 1 1 1 1 1 1 1 1 1 1 1 1 1 1 1 1 1 1 1 1 1]\n",
      "[0 0 0 0 0 0 0 0 0 0 0 0 1 1 1 1 1 1 1 1 1 1 1 1 1 1 1 1]\n",
      "[0 0 0 0 0 0 1 1 1 1 1 1 0 0 0 0 0 0 1 1 1 1 1 1 1 1 1 1]\n",
      "[0 0 1 1 1 1 0 0 1 1 1 1 0 0 1 1 1 1 0 0 0 0 0 0 1 1 1 1]\n",
      "[0 1 0 1 1 1 0 1 0 1 1 1 0 1 0 1 1 1 0 0 0 1 1 1 0 0 0 1]\n",
      "[1 1 1 0 0 1 1 1 1 0 0 1 1 1 1 0 0 1 0 0 1 0 0 1 0 0 1 1]\n",
      "[1 1 1 0 1 0 1 1 1 0 1 0 1 1 1 0 1 0 0 1 0 0 1 0 0 1 0 1]\n",
      "Number of rows: 7\n",
      "Number of columns: 28\n",
      "Weight Enumerator function:\n",
      "[1, 0, 0, 0, 0, 0, 0, 0, 0, 0, 0, 0, 63, 0, 0, 0, 63, 0, 0, 0, 0, 0, 0, 0, 0, 0, 0, 0, 1]\n",
      "----------------------------------------------------------------------------------------------------\n",
      "Code number 4\n",
      "[1 1 1 1 1 1 1 1 1 1 1 1 1 1 1 1 1 1 1 1 1 1 1 1 1 1 1 1]\n",
      "[0 0 0 0 0 0 0 0 1 1 1 1 1 1 1 1 1 1 1 1 1 1 1 1 1 1 1 1]\n",
      "[0 0 0 0 1 1 1 1 0 0 0 0 1 1 1 1 1 1 1 1 1 1 1 1 1 1 1 1]\n",
      "[0 0 1 1 0 0 1 1 0 0 1 1 0 0 1 1 1 1 1 1 1 1 1 1 1 1 1 1]\n",
      "[1 1 1 1 1 1 1 1 1 1 1 1 1 1 0 0 0 0 0 0 0 0 1 1 1 1 1 1]\n",
      "[1 1 1 1 1 1 1 1 1 1 1 1 1 1 0 0 0 0 1 1 1 1 0 0 0 0 1 1]\n",
      "[1 1 1 1 1 1 1 1 1 1 1 1 1 1 0 0 1 1 0 0 1 1 0 0 1 1 0 0]\n",
      "[0 1 0 1 0 1 0 1 0 1 0 1 0 1 0 1 0 1 0 1 0 1 0 1 0 1 0 1]\n",
      "Number of rows: 8\n",
      "Number of columns: 28\n",
      "Weight Enumerator function:\n",
      "[1, 0, 0, 0, 0, 0, 0, 0, 14, 0, 0, 0, 49, 0, 128, 0, 49, 0, 0, 0, 14, 0, 0, 0, 0, 0, 0, 0, 1]\n",
      "----------------------------------------------------------------------------------------------------\n",
      "Code number 5\n",
      "[1 1 1 1 1 1 1 1 1 1 1 1 1 1 1 1 1 1 1 1 1 1 1 1 1 1 1 1 1 1]\n",
      "[0 0 0 0 0 0 0 0 1 1 1 1 1 1 1 1 1 1 1 1 1 1 1 1 1 1 1 1 1 1]\n",
      "[0 0 0 0 1 1 1 1 0 0 0 0 1 1 1 1 1 1 1 1 1 1 1 1 1 1 1 1 1 1]\n",
      "[0 0 1 1 0 0 1 1 0 0 1 1 0 0 1 1 1 1 1 1 1 1 1 1 1 1 1 1 1 1]\n",
      "[0 1 0 1 0 1 0 1 0 1 0 1 0 1 0 1 1 1 1 1 1 1 1 1 1 1 1 1 1 1]\n",
      "[1 1 1 1 1 1 1 1 1 1 1 1 1 1 1 0 0 0 0 0 0 0 0 1 1 1 1 1 1 1]\n",
      "[1 1 1 1 1 1 1 1 1 1 1 1 1 1 1 0 0 0 0 1 1 1 1 0 0 0 0 1 1 1]\n",
      "[1 1 1 1 1 1 1 1 1 1 1 1 1 1 1 0 0 1 1 0 0 1 1 0 0 1 1 0 0 1]\n",
      "[1 1 1 1 1 1 1 1 1 1 1 1 1 1 1 0 1 0 1 0 1 0 1 0 1 0 1 0 1 0]\n",
      "Number of rows: 9\n",
      "Number of columns: 30\n",
      "Weight Enumerator function:\n",
      "[1, 0, 0, 0, 0, 0, 0, 0, 30, 0, 0, 0, 0, 0, 225, 0, 225, 0, 0, 0, 0, 0, 30, 0, 0, 0, 0, 0, 0, 0, 1]\n",
      "----------------------------------------------------------------------------------------------------\n"
     ]
    }
   ],
   "source": [
    "################################################################################\n",
    "#         THIS PART JUST PRINTS THE SUBSPACES AND RELEVANT POLYNOMIALS         #\n",
    "################################################################################\n",
    "i=1\n",
    "for G in Gs:\n",
    "    print(\"Code number\",i)\n",
    "    print(G)\n",
    "    print(\"Number of rows:\",G.nrows())\n",
    "    print(\"Number of columns:\",G.ncols())\n",
    "    print(\"Weight Enumerator function:\")\n",
    "    print(Weight_Enumerator(G))\n",
    "    print(\"-\"*100)\n",
    "    i=i+1"
   ]
  },
  {
   "cell_type": "code",
   "execution_count": 5,
   "metadata": {},
   "outputs": [
    {
     "data": {
      "text/plain": [
       "True"
      ]
     },
     "execution_count": 5,
     "metadata": {},
     "output_type": "execute_result"
    }
   ],
   "source": [
    "#Check if the subspace Gs[2] is triorthogonal\n",
    "Is_Tri(Gs[2])"
   ]
  },
  {
   "cell_type": "code",
   "execution_count": 6,
   "metadata": {
    "scrolled": false
   },
   "outputs": [
    {
     "name": "stdout",
     "output_type": "stream",
     "text": [
      "Odd Descendant:\n",
      "[0 1 0 1 0 1 0 1 0 1 0 1 0 1]\n",
      "[1 1 0 0 1 1 0 0 1 1 0 0 1 1]\n",
      "[0 0 1 1 1 1 0 0 0 0 1 1 1 1]\n",
      "[0 0 0 0 0 0 1 1 1 1 1 1 1 1]\n",
      "n + 1 = 15\n",
      "Even Descendant:\n",
      "[0 0 1 0 1 1 0 0 1 1 0 1 0 0 1]\n",
      "[1 0 1 0 1 0 1 0 1 0 1 0 1 0 1]\n",
      "[0 1 1 0 0 1 1 0 0 1 1 0 0 1 1]\n",
      "[0 0 0 1 1 1 1 0 0 0 0 1 1 1 1]\n",
      "[0 0 0 0 0 0 0 1 1 1 1 1 1 1 1]\n",
      "n + 1 = 16\n"
     ]
    },
    {
     "data": {
      "text/plain": [
       "True"
      ]
     },
     "execution_count": 6,
     "metadata": {},
     "output_type": "execute_result"
    }
   ],
   "source": [
    "################################################################################\n",
    "#                             STUDY OF DESCENDANTS                             #\n",
    "#                FROM THIS POINT WE COMPUTE THE DESCENDANTS OF                 #\n",
    "#                 TRIORTHOGONAL SUBSPACES AND THEIR DISTANCES.                 #\n",
    "################################################################################\n",
    "\n",
    "#Instructions: There are two main functions here:\n",
    "#   Generate_Even_Desc(G,k,func,arg) and Generate_Odd_Desc(G,k,func,arg)\n",
    "#These functions take the triorthogonal subspace G, and search through all even\n",
    "# or odd descendants of G with k logical qubits.\n",
    "# The other input is a function func, which should have the following form\n",
    "# func(Desc, arg)\n",
    "# Any time through the search that a descendant of G with k logical qubits is \n",
    "# constructed, the func will be called, with the two inputs will be passed:\n",
    "# Desc: which is the descendant, and\n",
    "# arg: which is the argument given to Generate_Even_Desc and Generate_odd_Desc\n",
    "# functions.\n",
    "# IMPORTANT: If the output of func is True, then the search immediately ends and \n",
    "# the Generate_Even/Odd_Desc functions return True. If the output of func is \n",
    "# False then the search continues, and the function return False if func never\n",
    "# outputs True.\n",
    "\n",
    "#Example: The following prints one odd and one even descendant of Gs[0] with k=1\n",
    "# and ends the search\n",
    "def func(Desc,k):\n",
    "    print(Desc)\n",
    "    print(\"n + 1 =\",Desc.ncols()+1)\n",
    "    return True\n",
    "\n",
    "print(\"Odd Descendant:\")\n",
    "Generate_Odd_Desc (Gs[0],1,func,None)\n",
    "print(\"Even Descendant:\")\n",
    "Generate_Even_Desc(Gs[0],1,func,None)"
   ]
  },
  {
   "cell_type": "code",
   "execution_count": 10,
   "metadata": {},
   "outputs": [
    {
     "name": "stdout",
     "output_type": "stream",
     "text": [
      "Is distance (strictly) larger than 1 ?  True\n",
      "Is distance (strictly) larger than 2 ?  False\n"
     ]
    }
   ],
   "source": [
    "################################################################################\n",
    "#        FUNCTIONS FOR CHECKING THE DISTANCE OF A TRIORTHOGONAL MATRIX         #\n",
    "################################################################################\n",
    "\n",
    "#The function Is_Dist_Larger(Desc,d) takes a descendant Desc and return True if\n",
    "# its distance is (strictly) larger than d. Otherwise, it returns False.\n",
    "\n",
    "#Example: The following line check if any even descendant of Gs[0] with k = 2 \n",
    "#  has distance larger than 1\n",
    "\n",
    "k = 2\n",
    "d = 1\n",
    "print(\"Is distance (strictly) larger than\",d,\"? \",Generate_Even_Desc(Gs[0],k,Is_Dist_Larger,d))\n",
    "#The output is True\n",
    "\n",
    "#Example: The following line check if any even descendant of Gs[0] with k = 2 \n",
    "#  has distance larger than 2\n",
    "k = 2\n",
    "d = 2\n",
    "print(\"Is distance (strictly) larger than\",d,\"? \",Generate_Even_Desc(Gs[0],k,Is_Dist_Larger,d))\n",
    "#The output is False\n",
    "#We conclude that the maximum distance of even descendants of Gs[0] with k = 2 is \n",
    "# equal to 2"
   ]
  }
 ],
 "metadata": {
  "kernelspec": {
   "display_name": "SageMath 9.2",
   "language": "sage",
   "name": "sagemath"
  },
  "language_info": {
   "codemirror_mode": {
    "name": "ipython",
    "version": 3
   },
   "file_extension": ".py",
   "mimetype": "text/x-python",
   "name": "python",
   "nbconvert_exporter": "python",
   "pygments_lexer": "ipython3",
   "version": "3.8.5"
  }
 },
 "nbformat": 4,
 "nbformat_minor": 4
}
